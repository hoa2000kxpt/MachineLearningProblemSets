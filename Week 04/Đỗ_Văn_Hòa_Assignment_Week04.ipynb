{
  "nbformat": 4,
  "nbformat_minor": 0,
  "metadata": {
    "colab": {
      "name": "Đỗ Văn Hòa_Assignment Week04.ipynb",
      "provenance": [],
      "collapsed_sections": []
    },
    "kernelspec": {
      "name": "python3",
      "display_name": "Python 3"
    }
  },
  "cells": [
    {
      "cell_type": "markdown",
      "metadata": {
        "id": "x_i7aAxb1q1j",
        "colab_type": "text"
      },
      "source": [
        "# Team 4 - TED Talks\n",
        "\n",
        "![](https://psmarketingimages.s3.amazonaws.com/blog/wp-content/uploads/2017/04/23103819/TED-Talks-for-Small-Business-and-Entrepreneurs.jpg)\n",
        "\n",
        "_For more information about the dataset, read [here](https://www.kaggle.com/rounakbanik/ted-talks)._\n",
        "\n",
        "## Your tasks\n",
        "- Name your team!\n",
        "- Read the source and do some quick research to understand more about the dataset and its topic\n",
        "- Clean the data\n",
        "- Perform Exploratory Data Analysis on the dataset\n",
        "- Analyze the data more deeply and extract insights\n",
        "- Visualize your analysis on Google Data Studio\n",
        "- Present your works in front of the class and guests next Monday\n",
        "\n",
        "## Submission Guide\n",
        "- Create a Github repository for your project\n",
        "- Upload the dataset (.csv file) and the Jupyter Notebook to your Github repository. In the Jupyter Notebook, **include the link to your Google Data Studio report**.\n",
        "- Submit your works through this [Google Form](https://forms.gle/oxtXpGfS8JapVj3V8).\n",
        "\n",
        "## Tips for Data Cleaning, Manipulation & Visualization\n",
        "- Here are some of our tips for Data Cleaning, Manipulation & Visualization. [Click here](https://hackmd.io/cBNV7E6TT2WMliQC-GTw1A)\n",
        "\n",
        "_____________________________\n",
        "\n",
        "## Some Hints for This Dataset:\n",
        "- The `ratings` column is in dictionary format. How should we handle them?\n",
        "- Same for `related_talks` and `tags` column\n",
        "- Can you find the `year` of the talks?\n",
        "- And more..."
      ]
    },
    {
      "cell_type": "code",
      "metadata": {
        "id": "cTPK20XC1fIO",
        "colab_type": "code",
        "colab": {
          "base_uri": "https://localhost:8080/",
          "height": 88
        },
        "outputId": "9672e9de-60b4-451d-8f2a-ea2e2c0e640f"
      },
      "source": [
        "import pandas as pd\n",
        "import numpy as np\n",
        "import matplotlib.pyplot as plt\n",
        "import seaborn as sns\n",
        "from textblob import TextBlob\n",
        "from keras.models import Sequential\n",
        "from keras.layers import Dense, Activation, Dropout\n",
        "from keras.regularizers import l2\n",
        "from keras.optimizers import SGD\n",
        "import scipy.stats\n",
        "from scipy.stats import gaussian_kde\n",
        "import re\n",
        "import ast\n",
        "import random\n",
        "from sklearn import preprocessing\n",
        "\n",
        "plt.style.use('ggplot')"
      ],
      "execution_count": null,
      "outputs": [
        {
          "output_type": "stream",
          "text": [
            "/usr/local/lib/python3.6/dist-packages/statsmodels/tools/_testing.py:19: FutureWarning: pandas.util.testing is deprecated. Use the functions in the public API at pandas.testing instead.\n",
            "  import pandas.util.testing as tm\n",
            "Using TensorFlow backend.\n"
          ],
          "name": "stderr"
        }
      ]
    },
    {
      "cell_type": "code",
      "metadata": {
        "id": "jgBMn6WM29Hc",
        "colab_type": "code",
        "colab": {
          "base_uri": "https://localhost:8080/",
          "height": 275
        },
        "outputId": "fde5244e-345a-44c9-c782-db39ece7f9b8"
      },
      "source": [
        "!pip install PyDrive"
      ],
      "execution_count": null,
      "outputs": [
        {
          "output_type": "stream",
          "text": [
            "Requirement already satisfied: PyDrive in /usr/local/lib/python3.6/dist-packages (1.3.1)\n",
            "Requirement already satisfied: google-api-python-client>=1.2 in /usr/local/lib/python3.6/dist-packages (from PyDrive) (1.7.12)\n",
            "Requirement already satisfied: PyYAML>=3.0 in /usr/local/lib/python3.6/dist-packages (from PyDrive) (3.13)\n",
            "Requirement already satisfied: oauth2client>=4.0.0 in /usr/local/lib/python3.6/dist-packages (from PyDrive) (4.1.3)\n",
            "Requirement already satisfied: uritemplate<4dev,>=3.0.0 in /usr/local/lib/python3.6/dist-packages (from google-api-python-client>=1.2->PyDrive) (3.0.1)\n",
            "Requirement already satisfied: google-auth-httplib2>=0.0.3 in /usr/local/lib/python3.6/dist-packages (from google-api-python-client>=1.2->PyDrive) (0.0.4)\n",
            "Requirement already satisfied: httplib2<1dev,>=0.17.0 in /usr/local/lib/python3.6/dist-packages (from google-api-python-client>=1.2->PyDrive) (0.17.4)\n",
            "Requirement already satisfied: google-auth>=1.4.1 in /usr/local/lib/python3.6/dist-packages (from google-api-python-client>=1.2->PyDrive) (1.17.2)\n",
            "Requirement already satisfied: six<2dev,>=1.6.1 in /usr/local/lib/python3.6/dist-packages (from google-api-python-client>=1.2->PyDrive) (1.15.0)\n",
            "Requirement already satisfied: pyasn1-modules>=0.0.5 in /usr/local/lib/python3.6/dist-packages (from oauth2client>=4.0.0->PyDrive) (0.2.8)\n",
            "Requirement already satisfied: pyasn1>=0.1.7 in /usr/local/lib/python3.6/dist-packages (from oauth2client>=4.0.0->PyDrive) (0.4.8)\n",
            "Requirement already satisfied: rsa>=3.1.4 in /usr/local/lib/python3.6/dist-packages (from oauth2client>=4.0.0->PyDrive) (4.6)\n",
            "Requirement already satisfied: cachetools<5.0,>=2.0.0 in /usr/local/lib/python3.6/dist-packages (from google-auth>=1.4.1->google-api-python-client>=1.2->PyDrive) (4.1.1)\n",
            "Requirement already satisfied: setuptools>=40.3.0 in /usr/local/lib/python3.6/dist-packages (from google-auth>=1.4.1->google-api-python-client>=1.2->PyDrive) (49.1.0)\n"
          ],
          "name": "stdout"
        }
      ]
    },
    {
      "cell_type": "code",
      "metadata": {
        "id": "WsbE4mdW2_Md",
        "colab_type": "code",
        "colab": {}
      },
      "source": [
        "from pydrive.auth import GoogleAuth\n",
        "from pydrive.drive import GoogleDrive\n",
        "from google.colab import auth\n",
        "from oauth2client.client import GoogleCredentials"
      ],
      "execution_count": null,
      "outputs": []
    },
    {
      "cell_type": "code",
      "metadata": {
        "id": "f0mz863R3CJc",
        "colab_type": "code",
        "colab": {}
      },
      "source": [
        "auth.authenticate_user()\n",
        "gauth = GoogleAuth()\n",
        "gauth.credentials = GoogleCredentials.get_application_default()\n",
        "drive = GoogleDrive(gauth)"
      ],
      "execution_count": null,
      "outputs": []
    },
    {
      "cell_type": "code",
      "metadata": {
        "id": "Co0PFTHL3rHL",
        "colab_type": "code",
        "colab": {}
      },
      "source": [
        "downloaded = drive.CreateFile({'id':\"1ZPFvTkWltdp3V_wG7wxaszc7qrVQ96Vz\"})   # replace the id with id of file you want to access\n",
        "downloaded.GetContentFile('ted.csv')        # replace the file name with your file"
      ],
      "execution_count": null,
      "outputs": []
    },
    {
      "cell_type": "code",
      "metadata": {
        "id": "19so0Jhf4wW7",
        "colab_type": "code",
        "colab": {
          "base_uri": "https://localhost:8080/",
          "height": 598
        },
        "outputId": "8c5a4b14-a25a-4a10-9ce1-7144d4be0002"
      },
      "source": [
        "ted_dataset = pd.read_csv('ted.csv')\n",
        "ted_dataset.head()"
      ],
      "execution_count": null,
      "outputs": [
        {
          "output_type": "execute_result",
          "data": {
            "text/html": [
              "<div>\n",
              "<style scoped>\n",
              "    .dataframe tbody tr th:only-of-type {\n",
              "        vertical-align: middle;\n",
              "    }\n",
              "\n",
              "    .dataframe tbody tr th {\n",
              "        vertical-align: top;\n",
              "    }\n",
              "\n",
              "    .dataframe thead th {\n",
              "        text-align: right;\n",
              "    }\n",
              "</style>\n",
              "<table border=\"1\" class=\"dataframe\">\n",
              "  <thead>\n",
              "    <tr style=\"text-align: right;\">\n",
              "      <th></th>\n",
              "      <th>comments</th>\n",
              "      <th>description</th>\n",
              "      <th>duration</th>\n",
              "      <th>event</th>\n",
              "      <th>film_date</th>\n",
              "      <th>languages</th>\n",
              "      <th>main_speaker</th>\n",
              "      <th>name</th>\n",
              "      <th>num_speaker</th>\n",
              "      <th>published_date</th>\n",
              "      <th>ratings</th>\n",
              "      <th>related_talks</th>\n",
              "      <th>speaker_occupation</th>\n",
              "      <th>tags</th>\n",
              "      <th>title</th>\n",
              "      <th>url</th>\n",
              "      <th>views</th>\n",
              "    </tr>\n",
              "  </thead>\n",
              "  <tbody>\n",
              "    <tr>\n",
              "      <th>0</th>\n",
              "      <td>4553</td>\n",
              "      <td>Sir Ken Robinson makes an entertaining and pro...</td>\n",
              "      <td>1164</td>\n",
              "      <td>TED2006</td>\n",
              "      <td>1140825600</td>\n",
              "      <td>60</td>\n",
              "      <td>Ken Robinson</td>\n",
              "      <td>Ken Robinson: Do schools kill creativity?</td>\n",
              "      <td>1</td>\n",
              "      <td>1151367060</td>\n",
              "      <td>[{'id': 7, 'name': 'Funny', 'count': 19645}, {...</td>\n",
              "      <td>[{'id': 865, 'hero': 'https://pe.tedcdn.com/im...</td>\n",
              "      <td>Author/educator</td>\n",
              "      <td>['children', 'creativity', 'culture', 'dance',...</td>\n",
              "      <td>Do schools kill creativity?</td>\n",
              "      <td>https://www.ted.com/talks/ken_robinson_says_sc...</td>\n",
              "      <td>47227110</td>\n",
              "    </tr>\n",
              "    <tr>\n",
              "      <th>1</th>\n",
              "      <td>265</td>\n",
              "      <td>With the same humor and humanity he exuded in ...</td>\n",
              "      <td>977</td>\n",
              "      <td>TED2006</td>\n",
              "      <td>1140825600</td>\n",
              "      <td>43</td>\n",
              "      <td>Al Gore</td>\n",
              "      <td>Al Gore: Averting the climate crisis</td>\n",
              "      <td>1</td>\n",
              "      <td>1151367060</td>\n",
              "      <td>[{'id': 7, 'name': 'Funny', 'count': 544}, {'i...</td>\n",
              "      <td>[{'id': 243, 'hero': 'https://pe.tedcdn.com/im...</td>\n",
              "      <td>Climate advocate</td>\n",
              "      <td>['alternative energy', 'cars', 'climate change...</td>\n",
              "      <td>Averting the climate crisis</td>\n",
              "      <td>https://www.ted.com/talks/al_gore_on_averting_...</td>\n",
              "      <td>3200520</td>\n",
              "    </tr>\n",
              "    <tr>\n",
              "      <th>2</th>\n",
              "      <td>124</td>\n",
              "      <td>New York Times columnist David Pogue takes aim...</td>\n",
              "      <td>1286</td>\n",
              "      <td>TED2006</td>\n",
              "      <td>1140739200</td>\n",
              "      <td>26</td>\n",
              "      <td>David Pogue</td>\n",
              "      <td>David Pogue: Simplicity sells</td>\n",
              "      <td>1</td>\n",
              "      <td>1151367060</td>\n",
              "      <td>[{'id': 7, 'name': 'Funny', 'count': 964}, {'i...</td>\n",
              "      <td>[{'id': 1725, 'hero': 'https://pe.tedcdn.com/i...</td>\n",
              "      <td>Technology columnist</td>\n",
              "      <td>['computers', 'entertainment', 'interface desi...</td>\n",
              "      <td>Simplicity sells</td>\n",
              "      <td>https://www.ted.com/talks/david_pogue_says_sim...</td>\n",
              "      <td>1636292</td>\n",
              "    </tr>\n",
              "    <tr>\n",
              "      <th>3</th>\n",
              "      <td>200</td>\n",
              "      <td>In an emotionally charged talk, MacArthur-winn...</td>\n",
              "      <td>1116</td>\n",
              "      <td>TED2006</td>\n",
              "      <td>1140912000</td>\n",
              "      <td>35</td>\n",
              "      <td>Majora Carter</td>\n",
              "      <td>Majora Carter: Greening the ghetto</td>\n",
              "      <td>1</td>\n",
              "      <td>1151367060</td>\n",
              "      <td>[{'id': 3, 'name': 'Courageous', 'count': 760}...</td>\n",
              "      <td>[{'id': 1041, 'hero': 'https://pe.tedcdn.com/i...</td>\n",
              "      <td>Activist for environmental justice</td>\n",
              "      <td>['MacArthur grant', 'activism', 'business', 'c...</td>\n",
              "      <td>Greening the ghetto</td>\n",
              "      <td>https://www.ted.com/talks/majora_carter_s_tale...</td>\n",
              "      <td>1697550</td>\n",
              "    </tr>\n",
              "    <tr>\n",
              "      <th>4</th>\n",
              "      <td>593</td>\n",
              "      <td>You've never seen data presented like this. Wi...</td>\n",
              "      <td>1190</td>\n",
              "      <td>TED2006</td>\n",
              "      <td>1140566400</td>\n",
              "      <td>48</td>\n",
              "      <td>Hans Rosling</td>\n",
              "      <td>Hans Rosling: The best stats you've ever seen</td>\n",
              "      <td>1</td>\n",
              "      <td>1151440680</td>\n",
              "      <td>[{'id': 9, 'name': 'Ingenious', 'count': 3202}...</td>\n",
              "      <td>[{'id': 2056, 'hero': 'https://pe.tedcdn.com/i...</td>\n",
              "      <td>Global health expert; data visionary</td>\n",
              "      <td>['Africa', 'Asia', 'Google', 'demo', 'economic...</td>\n",
              "      <td>The best stats you've ever seen</td>\n",
              "      <td>https://www.ted.com/talks/hans_rosling_shows_t...</td>\n",
              "      <td>12005869</td>\n",
              "    </tr>\n",
              "  </tbody>\n",
              "</table>\n",
              "</div>"
            ],
            "text/plain": [
              "   comments  ...     views\n",
              "0      4553  ...  47227110\n",
              "1       265  ...   3200520\n",
              "2       124  ...   1636292\n",
              "3       200  ...   1697550\n",
              "4       593  ...  12005869\n",
              "\n",
              "[5 rows x 17 columns]"
            ]
          },
          "metadata": {
            "tags": []
          },
          "execution_count": 6
        }
      ]
    },
    {
      "cell_type": "markdown",
      "metadata": {
        "id": "dVeuBN8X7etK",
        "colab_type": "text"
      },
      "source": [
        "**Cleaning and formating the data**"
      ]
    },
    {
      "cell_type": "code",
      "metadata": {
        "id": "Un6JqbRj7VFD",
        "colab_type": "code",
        "colab": {
          "base_uri": "https://localhost:8080/",
          "height": 323
        },
        "outputId": "69933d59-7c9b-4d50-f195-d46f9a423771"
      },
      "source": [
        "# Check the number of missing values\n",
        "ted_dataset.isnull().sum()"
      ],
      "execution_count": null,
      "outputs": [
        {
          "output_type": "execute_result",
          "data": {
            "text/plain": [
              "comments              0\n",
              "description           0\n",
              "duration              0\n",
              "event                 0\n",
              "film_date             0\n",
              "languages             0\n",
              "main_speaker          0\n",
              "name                  0\n",
              "num_speaker           0\n",
              "published_date        0\n",
              "ratings               0\n",
              "related_talks         0\n",
              "speaker_occupation    6\n",
              "tags                  0\n",
              "title                 0\n",
              "url                   0\n",
              "views                 0\n",
              "dtype: int64"
            ]
          },
          "metadata": {
            "tags": []
          },
          "execution_count": 12
        }
      ]
    },
    {
      "cell_type": "code",
      "metadata": {
        "id": "Zaf_qkOJ8IJh",
        "colab_type": "code",
        "colab": {
          "base_uri": "https://localhost:8080/",
          "height": 323
        },
        "outputId": "17011af3-96e5-439e-c543-23b9c0acd46b"
      },
      "source": [
        "# Clarify continuous values and Object/Categorical ones\n",
        "ted_dataset.dtypes"
      ],
      "execution_count": null,
      "outputs": [
        {
          "output_type": "execute_result",
          "data": {
            "text/plain": [
              "comments               int64\n",
              "description           object\n",
              "duration               int64\n",
              "event                 object\n",
              "film_date              int64\n",
              "languages              int64\n",
              "main_speaker          object\n",
              "name                  object\n",
              "num_speaker            int64\n",
              "published_date         int64\n",
              "ratings               object\n",
              "related_talks         object\n",
              "speaker_occupation    object\n",
              "tags                  object\n",
              "title                 object\n",
              "url                   object\n",
              "views                  int64\n",
              "dtype: object"
            ]
          },
          "metadata": {
            "tags": []
          },
          "execution_count": 14
        }
      ]
    },
    {
      "cell_type": "code",
      "metadata": {
        "id": "ay25Hm2i81C5",
        "colab_type": "code",
        "colab": {
          "base_uri": "https://localhost:8080/",
          "height": 85
        },
        "outputId": "032bcba8-aa0c-463f-89ad-296954d22340"
      },
      "source": [
        "# Drop the name column due to its unnecessary element for our data analysis \n",
        "ted_dataset = ted_dataset.drop(['name'], axis = 1)\n",
        "ted_dataset.columns"
      ],
      "execution_count": null,
      "outputs": [
        {
          "output_type": "execute_result",
          "data": {
            "text/plain": [
              "Index(['comments', 'description', 'duration', 'event', 'film_date',\n",
              "       'languages', 'main_speaker', 'num_speaker', 'published_date', 'ratings',\n",
              "       'related_talks', 'speaker_occupation', 'tags', 'title', 'url', 'views'],\n",
              "      dtype='object')"
            ]
          },
          "metadata": {
            "tags": []
          },
          "execution_count": 16
        }
      ]
    },
    {
      "cell_type": "code",
      "metadata": {
        "id": "0ZHFReVn9iyh",
        "colab_type": "code",
        "colab": {
          "base_uri": "https://localhost:8080/",
          "height": 598
        },
        "outputId": "9500a95c-4c6a-43f9-b5fe-07e6ef90705e"
      },
      "source": [
        "# Convert the date column values\n",
        "from datetime import datetime\n",
        "def convert(x):\n",
        "    return pd.to_datetime(x,unit='s')\n",
        "ted_dataset['film_date'] = ted_dataset['film_date'].apply(convert)\n",
        "ted_dataset['published_date'] = ted_dataset['published_date'].apply(convert)\n",
        "ted_dataset.head()"
      ],
      "execution_count": null,
      "outputs": [
        {
          "output_type": "execute_result",
          "data": {
            "text/html": [
              "<div>\n",
              "<style scoped>\n",
              "    .dataframe tbody tr th:only-of-type {\n",
              "        vertical-align: middle;\n",
              "    }\n",
              "\n",
              "    .dataframe tbody tr th {\n",
              "        vertical-align: top;\n",
              "    }\n",
              "\n",
              "    .dataframe thead th {\n",
              "        text-align: right;\n",
              "    }\n",
              "</style>\n",
              "<table border=\"1\" class=\"dataframe\">\n",
              "  <thead>\n",
              "    <tr style=\"text-align: right;\">\n",
              "      <th></th>\n",
              "      <th>comments</th>\n",
              "      <th>description</th>\n",
              "      <th>duration</th>\n",
              "      <th>event</th>\n",
              "      <th>film_date</th>\n",
              "      <th>languages</th>\n",
              "      <th>main_speaker</th>\n",
              "      <th>name</th>\n",
              "      <th>num_speaker</th>\n",
              "      <th>published_date</th>\n",
              "      <th>ratings</th>\n",
              "      <th>related_talks</th>\n",
              "      <th>speaker_occupation</th>\n",
              "      <th>tags</th>\n",
              "      <th>title</th>\n",
              "      <th>url</th>\n",
              "      <th>views</th>\n",
              "    </tr>\n",
              "  </thead>\n",
              "  <tbody>\n",
              "    <tr>\n",
              "      <th>0</th>\n",
              "      <td>4553</td>\n",
              "      <td>Sir Ken Robinson makes an entertaining and pro...</td>\n",
              "      <td>1164</td>\n",
              "      <td>TED2006</td>\n",
              "      <td>2006-02-25</td>\n",
              "      <td>60</td>\n",
              "      <td>Ken Robinson</td>\n",
              "      <td>Ken Robinson: Do schools kill creativity?</td>\n",
              "      <td>1</td>\n",
              "      <td>2006-06-27 00:11:00</td>\n",
              "      <td>[{'id': 7, 'name': 'Funny', 'count': 19645}, {...</td>\n",
              "      <td>[{'id': 865, 'hero': 'https://pe.tedcdn.com/im...</td>\n",
              "      <td>Author/educator</td>\n",
              "      <td>['children', 'creativity', 'culture', 'dance',...</td>\n",
              "      <td>Do schools kill creativity?</td>\n",
              "      <td>https://www.ted.com/talks/ken_robinson_says_sc...</td>\n",
              "      <td>47227110</td>\n",
              "    </tr>\n",
              "    <tr>\n",
              "      <th>1</th>\n",
              "      <td>265</td>\n",
              "      <td>With the same humor and humanity he exuded in ...</td>\n",
              "      <td>977</td>\n",
              "      <td>TED2006</td>\n",
              "      <td>2006-02-25</td>\n",
              "      <td>43</td>\n",
              "      <td>Al Gore</td>\n",
              "      <td>Al Gore: Averting the climate crisis</td>\n",
              "      <td>1</td>\n",
              "      <td>2006-06-27 00:11:00</td>\n",
              "      <td>[{'id': 7, 'name': 'Funny', 'count': 544}, {'i...</td>\n",
              "      <td>[{'id': 243, 'hero': 'https://pe.tedcdn.com/im...</td>\n",
              "      <td>Climate advocate</td>\n",
              "      <td>['alternative energy', 'cars', 'climate change...</td>\n",
              "      <td>Averting the climate crisis</td>\n",
              "      <td>https://www.ted.com/talks/al_gore_on_averting_...</td>\n",
              "      <td>3200520</td>\n",
              "    </tr>\n",
              "    <tr>\n",
              "      <th>2</th>\n",
              "      <td>124</td>\n",
              "      <td>New York Times columnist David Pogue takes aim...</td>\n",
              "      <td>1286</td>\n",
              "      <td>TED2006</td>\n",
              "      <td>2006-02-24</td>\n",
              "      <td>26</td>\n",
              "      <td>David Pogue</td>\n",
              "      <td>David Pogue: Simplicity sells</td>\n",
              "      <td>1</td>\n",
              "      <td>2006-06-27 00:11:00</td>\n",
              "      <td>[{'id': 7, 'name': 'Funny', 'count': 964}, {'i...</td>\n",
              "      <td>[{'id': 1725, 'hero': 'https://pe.tedcdn.com/i...</td>\n",
              "      <td>Technology columnist</td>\n",
              "      <td>['computers', 'entertainment', 'interface desi...</td>\n",
              "      <td>Simplicity sells</td>\n",
              "      <td>https://www.ted.com/talks/david_pogue_says_sim...</td>\n",
              "      <td>1636292</td>\n",
              "    </tr>\n",
              "    <tr>\n",
              "      <th>3</th>\n",
              "      <td>200</td>\n",
              "      <td>In an emotionally charged talk, MacArthur-winn...</td>\n",
              "      <td>1116</td>\n",
              "      <td>TED2006</td>\n",
              "      <td>2006-02-26</td>\n",
              "      <td>35</td>\n",
              "      <td>Majora Carter</td>\n",
              "      <td>Majora Carter: Greening the ghetto</td>\n",
              "      <td>1</td>\n",
              "      <td>2006-06-27 00:11:00</td>\n",
              "      <td>[{'id': 3, 'name': 'Courageous', 'count': 760}...</td>\n",
              "      <td>[{'id': 1041, 'hero': 'https://pe.tedcdn.com/i...</td>\n",
              "      <td>Activist for environmental justice</td>\n",
              "      <td>['MacArthur grant', 'activism', 'business', 'c...</td>\n",
              "      <td>Greening the ghetto</td>\n",
              "      <td>https://www.ted.com/talks/majora_carter_s_tale...</td>\n",
              "      <td>1697550</td>\n",
              "    </tr>\n",
              "    <tr>\n",
              "      <th>4</th>\n",
              "      <td>593</td>\n",
              "      <td>You've never seen data presented like this. Wi...</td>\n",
              "      <td>1190</td>\n",
              "      <td>TED2006</td>\n",
              "      <td>2006-02-22</td>\n",
              "      <td>48</td>\n",
              "      <td>Hans Rosling</td>\n",
              "      <td>Hans Rosling: The best stats you've ever seen</td>\n",
              "      <td>1</td>\n",
              "      <td>2006-06-27 20:38:00</td>\n",
              "      <td>[{'id': 9, 'name': 'Ingenious', 'count': 3202}...</td>\n",
              "      <td>[{'id': 2056, 'hero': 'https://pe.tedcdn.com/i...</td>\n",
              "      <td>Global health expert; data visionary</td>\n",
              "      <td>['Africa', 'Asia', 'Google', 'demo', 'economic...</td>\n",
              "      <td>The best stats you've ever seen</td>\n",
              "      <td>https://www.ted.com/talks/hans_rosling_shows_t...</td>\n",
              "      <td>12005869</td>\n",
              "    </tr>\n",
              "  </tbody>\n",
              "</table>\n",
              "</div>"
            ],
            "text/plain": [
              "   comments  ...     views\n",
              "0      4553  ...  47227110\n",
              "1       265  ...   3200520\n",
              "2       124  ...   1636292\n",
              "3       200  ...   1697550\n",
              "4       593  ...  12005869\n",
              "\n",
              "[5 rows x 17 columns]"
            ]
          },
          "metadata": {
            "tags": []
          },
          "execution_count": 17
        }
      ]
    },
    {
      "cell_type": "markdown",
      "metadata": {
        "id": "8jbTlCTQ-UDx",
        "colab_type": "text"
      },
      "source": [
        "**Performing Exploratory Data Analysis**"
      ]
    },
    {
      "cell_type": "code",
      "metadata": {
        "id": "AXih3puD-qYP",
        "colab_type": "code",
        "colab": {
          "base_uri": "https://localhost:8080/",
          "height": 279
        },
        "outputId": "54851821-d787-4a52-d5e6-2896ca4e7e53"
      },
      "source": [
        "# Top 10 the most frequent speakers\n",
        "sns.set_style('whitegrid')\n",
        "ax = sns.barplot(x=\"duration\", y=\"main_speaker\", data=ted_dataset.sort_values('duration', ascending=False)[:10])"
      ],
      "execution_count": null,
      "outputs": [
        {
          "output_type": "display_data",
          "data": {
            "image/png": "[encoded data removed]",
            "text/plain": [
              "<Figure size 432x288 with 1 Axes>"
            ]
          },
          "metadata": {
            "tags": []
          }
        }
      ]
    },
    {
      "cell_type": "code",
      "metadata": {
        "id": "tTj8PGyCFJM5",
        "colab_type": "code",
        "colab": {
          "base_uri": "https://localhost:8080/",
          "height": 279
        },
        "outputId": "6c9eaa01-b262-4da2-826e-e920346d068a"
      },
      "source": [
        "# Top 10 speakers getting the most views\n",
        "sns.set_style('whitegrid')\n",
        "ax = sns.barplot(x=\"views\", y=\"main_speaker\", data=ted_dataset.sort_values('views', ascending=False)[:10])"
      ],
      "execution_count": null,
      "outputs": [
        {
          "output_type": "display_data",
          "data": {
            "image/png": "[encoded data removed]",
            "text/plain": [
              "<Figure size 432x288 with 1 Axes>"
            ]
          },
          "metadata": {
            "tags": []
          }
        }
      ]
    },
    {
      "cell_type": "code",
      "metadata": {
        "id": "xLGHm-cebIAF",
        "colab_type": "code",
        "colab": {
          "base_uri": "https://localhost:8080/",
          "height": 359
        },
        "outputId": "b4bd7877-e6c2-4ea4-9635-975b4ae12f2c"
      },
      "source": [
        "# Top 10 the most famous speakers according to comments\n",
        "ted_dataset[['title', 'main_speaker','views', 'comments', 'duration']].sort_values('comments', ascending=False).head(10)"
      ],
      "execution_count": null,
      "outputs": [
        {
          "output_type": "execute_result",
          "data": {
            "text/html": [
              "<div>\n",
              "<style scoped>\n",
              "    .dataframe tbody tr th:only-of-type {\n",
              "        vertical-align: middle;\n",
              "    }\n",
              "\n",
              "    .dataframe tbody tr th {\n",
              "        vertical-align: top;\n",
              "    }\n",
              "\n",
              "    .dataframe thead th {\n",
              "        text-align: right;\n",
              "    }\n",
              "</style>\n",
              "<table border=\"1\" class=\"dataframe\">\n",
              "  <thead>\n",
              "    <tr style=\"text-align: right;\">\n",
              "      <th></th>\n",
              "      <th>title</th>\n",
              "      <th>main_speaker</th>\n",
              "      <th>views</th>\n",
              "      <th>comments</th>\n",
              "      <th>duration</th>\n",
              "    </tr>\n",
              "  </thead>\n",
              "  <tbody>\n",
              "    <tr>\n",
              "      <th>96</th>\n",
              "      <td>Militant atheism</td>\n",
              "      <td>Richard Dawkins</td>\n",
              "      <td>4374792</td>\n",
              "      <td>6404</td>\n",
              "      <td>1750</td>\n",
              "    </tr>\n",
              "    <tr>\n",
              "      <th>0</th>\n",
              "      <td>Do schools kill creativity?</td>\n",
              "      <td>Ken Robinson</td>\n",
              "      <td>47227110</td>\n",
              "      <td>4553</td>\n",
              "      <td>1164</td>\n",
              "    </tr>\n",
              "    <tr>\n",
              "      <th>644</th>\n",
              "      <td>Science can answer moral questions</td>\n",
              "      <td>Sam Harris</td>\n",
              "      <td>3433437</td>\n",
              "      <td>3356</td>\n",
              "      <td>1386</td>\n",
              "    </tr>\n",
              "    <tr>\n",
              "      <th>201</th>\n",
              "      <td>My stroke of insight</td>\n",
              "      <td>Jill Bolte Taylor</td>\n",
              "      <td>21190883</td>\n",
              "      <td>2877</td>\n",
              "      <td>1099</td>\n",
              "    </tr>\n",
              "    <tr>\n",
              "      <th>1787</th>\n",
              "      <td>How do you explain consciousness?</td>\n",
              "      <td>David Chalmers</td>\n",
              "      <td>2162764</td>\n",
              "      <td>2673</td>\n",
              "      <td>1117</td>\n",
              "    </tr>\n",
              "    <tr>\n",
              "      <th>954</th>\n",
              "      <td>Taking imagination seriously</td>\n",
              "      <td>Janet Echelman</td>\n",
              "      <td>1832930</td>\n",
              "      <td>2492</td>\n",
              "      <td>566</td>\n",
              "    </tr>\n",
              "    <tr>\n",
              "      <th>840</th>\n",
              "      <td>On reading the Koran</td>\n",
              "      <td>Lesley Hazleton</td>\n",
              "      <td>1847256</td>\n",
              "      <td>2374</td>\n",
              "      <td>573</td>\n",
              "    </tr>\n",
              "    <tr>\n",
              "      <th>1346</th>\n",
              "      <td>Your body language may shape who you are</td>\n",
              "      <td>Amy Cuddy</td>\n",
              "      <td>43155405</td>\n",
              "      <td>2290</td>\n",
              "      <td>1262</td>\n",
              "    </tr>\n",
              "    <tr>\n",
              "      <th>661</th>\n",
              "      <td>The danger of science denial</td>\n",
              "      <td>Michael Specter</td>\n",
              "      <td>1838628</td>\n",
              "      <td>2272</td>\n",
              "      <td>1141</td>\n",
              "    </tr>\n",
              "    <tr>\n",
              "      <th>677</th>\n",
              "      <td>How great leaders inspire action</td>\n",
              "      <td>Simon Sinek</td>\n",
              "      <td>34309432</td>\n",
              "      <td>1930</td>\n",
              "      <td>1084</td>\n",
              "    </tr>\n",
              "  </tbody>\n",
              "</table>\n",
              "</div>"
            ],
            "text/plain": [
              "                                         title  ... duration\n",
              "96                            Militant atheism  ...     1750\n",
              "0                  Do schools kill creativity?  ...     1164\n",
              "644         Science can answer moral questions  ...     1386\n",
              "201                       My stroke of insight  ...     1099\n",
              "1787         How do you explain consciousness?  ...     1117\n",
              "954               Taking imagination seriously  ...      566\n",
              "840                       On reading the Koran  ...      573\n",
              "1346  Your body language may shape who you are  ...     1262\n",
              "661               The danger of science denial  ...     1141\n",
              "677           How great leaders inspire action  ...     1084\n",
              "\n",
              "[10 rows x 5 columns]"
            ]
          },
          "metadata": {
            "tags": []
          },
          "execution_count": 11
        }
      ]
    },
    {
      "cell_type": "code",
      "metadata": {
        "id": "S2g7nAI4co66",
        "colab_type": "code",
        "colab": {
          "base_uri": "https://localhost:8080/",
          "height": 204
        },
        "outputId": "5106599b-3477-4316-aa16-d92f98bcffab"
      },
      "source": [
        "# Top months that hold the most talkshows\n",
        "talk_month = pd.DataFrame(ted_dataset['film_date'].map(lambda x: x.month).value_counts()).reset_index()\n",
        "talk_month.columns = ['month', 'talks']\n",
        "talk_month.head()"
      ],
      "execution_count": null,
      "outputs": [
        {
          "output_type": "execute_result",
          "data": {
            "text/html": [
              "<div>\n",
              "<style scoped>\n",
              "    .dataframe tbody tr th:only-of-type {\n",
              "        vertical-align: middle;\n",
              "    }\n",
              "\n",
              "    .dataframe tbody tr th {\n",
              "        vertical-align: top;\n",
              "    }\n",
              "\n",
              "    .dataframe thead th {\n",
              "        text-align: right;\n",
              "    }\n",
              "</style>\n",
              "<table border=\"1\" class=\"dataframe\">\n",
              "  <thead>\n",
              "    <tr style=\"text-align: right;\">\n",
              "      <th></th>\n",
              "      <th>month</th>\n",
              "      <th>talks</th>\n",
              "    </tr>\n",
              "  </thead>\n",
              "  <tbody>\n",
              "    <tr>\n",
              "      <th>0</th>\n",
              "      <td>2</td>\n",
              "      <td>601</td>\n",
              "    </tr>\n",
              "    <tr>\n",
              "      <th>1</th>\n",
              "      <td>3</td>\n",
              "      <td>397</td>\n",
              "    </tr>\n",
              "    <tr>\n",
              "      <th>2</th>\n",
              "      <td>6</td>\n",
              "      <td>270</td>\n",
              "    </tr>\n",
              "    <tr>\n",
              "      <th>3</th>\n",
              "      <td>7</td>\n",
              "      <td>253</td>\n",
              "    </tr>\n",
              "    <tr>\n",
              "      <th>4</th>\n",
              "      <td>11</td>\n",
              "      <td>232</td>\n",
              "    </tr>\n",
              "  </tbody>\n",
              "</table>\n",
              "</div>"
            ],
            "text/plain": [
              "   month  talks\n",
              "0      2    601\n",
              "1      3    397\n",
              "2      6    270\n",
              "3      7    253\n",
              "4     11    232"
            ]
          },
          "metadata": {
            "tags": []
          },
          "execution_count": 18
        }
      ]
    },
    {
      "cell_type": "code",
      "metadata": {
        "id": "LKdIUvimfIef",
        "colab_type": "code",
        "colab": {
          "base_uri": "https://localhost:8080/",
          "height": 296
        },
        "outputId": "6d720414-28ba-4de1-cf30-bfe29e5fb9a2"
      },
      "source": [
        "sns.barplot(x='month', y='talks', data=talk_month)"
      ],
      "execution_count": null,
      "outputs": [
        {
          "output_type": "execute_result",
          "data": {
            "text/plain": [
              "<matplotlib.axes._subplots.AxesSubplot at 0x7f9237daeda0>"
            ]
          },
          "metadata": {
            "tags": []
          },
          "execution_count": 19
        },
        {
          "output_type": "display_data",
          "data": {
            "image/png": "[encoded data removed]",
            "text/plain": [
              "<Figure size 432x288 with 1 Axes>"
            ]
          },
          "metadata": {
            "tags": [],
            "needs_background": "light"
          }
        }
      ]
    },
    {
      "cell_type": "code",
      "metadata": {
        "id": "i4kSUaUXW4PL",
        "colab_type": "code",
        "colab": {
          "base_uri": "https://localhost:8080/",
          "height": 307
        },
        "outputId": "52f32dd3-dda3-45b3-ea61-46e969eb879e"
      },
      "source": [
        "# Distribution of views\n",
        "sns.distplot(ted_dataset[ted_dataset['views'] < 0.4e7]['views'])"
      ],
      "execution_count": null,
      "outputs": [
        {
          "output_type": "execute_result",
          "data": {
            "text/plain": [
              "<matplotlib.axes._subplots.AxesSubplot at 0x7f9237f07dd8>"
            ]
          },
          "metadata": {
            "tags": []
          },
          "execution_count": 7
        },
        {
          "output_type": "display_data",
          "data": {
            "image/png": "[encoded data removed]",
            "text/plain": [
              "<Figure size 432x288 with 1 Axes>"
            ]
          },
          "metadata": {
            "tags": [],
            "needs_background": "light"
          }
        }
      ]
    },
    {
      "cell_type": "code",
      "metadata": {
        "id": "TDbH0FrGXV8P",
        "colab_type": "code",
        "colab": {
          "base_uri": "https://localhost:8080/",
          "height": 299
        },
        "outputId": "50178024-6bac-4275-89f8-dd5886abee2c"
      },
      "source": [
        "# Distribution of duration\n",
        "sns.distplot(ted_dataset[ted_dataset['duration'] < 0.4e7]['duration'])"
      ],
      "execution_count": null,
      "outputs": [
        {
          "output_type": "execute_result",
          "data": {
            "text/plain": [
              "<matplotlib.axes._subplots.AxesSubplot at 0x7f9237f07940>"
            ]
          },
          "metadata": {
            "tags": []
          },
          "execution_count": 8
        },
        {
          "output_type": "display_data",
          "data": {
            "image/png": "[encoded data removed]",
            "text/plain": [
              "<Figure size 432x288 with 1 Axes>"
            ]
          },
          "metadata": {
            "tags": [],
            "needs_background": "light"
          }
        }
      ]
    },
    {
      "cell_type": "code",
      "metadata": {
        "id": "SX8LKgBLYQkY",
        "colab_type": "code",
        "colab": {
          "base_uri": "https://localhost:8080/",
          "height": 441
        },
        "outputId": "51188870-5af7-4d2c-ab36-89fa89d115ae"
      },
      "source": [
        "# The correlation between view and duration\n",
        "ax = sns.jointplot(x='views', y='duration', data=ted_dataset)"
      ],
      "execution_count": null,
      "outputs": [
        {
          "output_type": "display_data",
          "data": {
            "image/png": "[encoded data removed]",
            "text/plain": [
              "<Figure size 432x432 with 3 Axes>"
            ]
          },
          "metadata": {
            "tags": [],
            "needs_background": "light"
          }
        }
      ]
    },
    {
      "cell_type": "code",
      "metadata": {
        "id": "PiGtX2eON-sA",
        "colab_type": "code",
        "colab": {
          "base_uri": "https://localhost:8080/",
          "height": 458
        },
        "outputId": "d973c53b-0a86-4071-d70f-fb23a0d6eba0"
      },
      "source": [
        "# The correlation between views and comments\n",
        "sns.jointplot(x='views', y='comments', data=ted_dataset)"
      ],
      "execution_count": null,
      "outputs": [
        {
          "output_type": "execute_result",
          "data": {
            "text/plain": [
              "<seaborn.axisgrid.JointGrid at 0x7f192b2f5978>"
            ]
          },
          "metadata": {
            "tags": []
          },
          "execution_count": 11
        },
        {
          "output_type": "display_data",
          "data": {
            "image/png": "[encoded data removed]",
            "text/plain": [
              "<Figure size 432x432 with 3 Axes>"
            ]
          },
          "metadata": {
            "tags": [],
            "needs_background": "light"
          }
        }
      ]
    },
    {
      "cell_type": "markdown",
      "metadata": {
        "id": "v9njnT5cOEL7",
        "colab_type": "text"
      },
      "source": [
        "**The correlation between rankings**\n",
        "\n",
        "<pre>Measuring ratings\n",
        "Positive: Funny, Courageous, Beautiful, Informative, Inspiring, Fascinating, Ingenious, Persuasive, Jaw-dropping\n",
        "Negative: Confusing, Unconvincing, Longwinded, Obnoxious, OK </pre>\n"
      ]
    },
    {
      "cell_type": "code",
      "metadata": {
        "id": "M3Ju7a69PlvO",
        "colab_type": "code",
        "colab": {
          "base_uri": "https://localhost:8080/",
          "height": 327
        },
        "outputId": "79f81e34-daa6-439d-f8b8-a975a9e14842"
      },
      "source": [
        "ted_dataset['ratings'] = ted_dataset['ratings'].apply(lambda x: eval(str(x))) #turns stringified dictionary into python dictionary\n",
        "counter = {'Funny':0, 'Beautiful':0, 'Ingenious':0, 'Courageous':0, 'Longwinded':0, 'Confusing':0, 'Informative':0, 'Fascinating':0, 'Unconvincing':0,\n",
        "           'Persuasive':0, 'Jaw-dropping':0, 'OK':0, 'Obnoxious':0, 'Inspiring':0}\n",
        "\n",
        "for i in range(len(ted_dataset['ratings'])):\n",
        "    for j in range(len(ted_dataset['ratings'][i])):\n",
        "        counter[ted_dataset['ratings'][i][j]['name']] += ted_dataset['ratings'][i][j]['count']\n",
        "\n",
        "frequencies = list(counter.values())\n",
        "descr = counter.keys()\n",
        "descriptors = [x for _,x in sorted(zip(frequencies,counter.keys()), reverse=True)]\n",
        "neg_descriptors = {\"Confusing\", \"Unconvincing\", \"Longwinded\", \"Obnoxious\", \"OK\"}\n",
        "neg_indices  = [x for x in range (len(descriptors)) if descriptors[x] in neg_descriptors]\n",
        "frequencies.sort(reverse=True)\n",
        "\n",
        "indices = np.arange(len(descriptors))\n",
        "bar = plt.bar(indices, frequencies, 0.8)\n",
        "[bar[i].set_color('b') for i in neg_indices]\n",
        "plt.xticks(indices, descriptors, rotation=45, ha=\"right\")\n",
        "plt.title(\"Ratings Analysis\")\n",
        "plt.show()\n"
      ],
      "execution_count": null,
      "outputs": [
        {
          "output_type": "display_data",
          "data": {
            "image/png": "[encoded data removed]",
            "text/plain": [
              "<Figure size 432x288 with 1 Axes>"
            ]
          },
          "metadata": {
            "tags": [],
            "needs_background": "light"
          }
        }
      ]
    },
    {
      "cell_type": "code",
      "metadata": {
        "id": "ylCQO1tjaMse",
        "colab_type": "code",
        "colab": {}
      },
      "source": [
        "# Prove: the average TED viewer to leave positive feedback over negative feedback\n",
        "ted_dataset['aggregateRatings'] = ted_dataset['ratings'].apply(lambda x: \\\n",
        "                                            x[0]['count']+ \\\n",
        "                                            x[1]['count']- \\\n",
        "                                            x[2]['count']+ \\\n",
        "                                            x[3]['count']- \\\n",
        "                                            x[4]['count']- \\\n",
        "                                            x[5]['count']+ \\\n",
        "                                            x[6]['count']+ \\\n",
        "                                            x[7]['count']+ \\\n",
        "                                            x[8]['count']+ \\\n",
        "                                            x[9]['count']+ \\\n",
        "                                            x[10]['count']+ \\\n",
        "                                            x[11]['count']- \\\n",
        "                                            x[12]['count']- \\\n",
        "                                            x[13]['count'])\n",
        "                                            \n",
        "\n",
        "ar = ted_dataset['aggregateRatings']"
      ],
      "execution_count": null,
      "outputs": []
    },
    {
      "cell_type": "code",
      "metadata": {
        "id": "nmHOumkIT-MO",
        "colab_type": "code",
        "colab": {
          "base_uri": "https://localhost:8080/",
          "height": 282
        },
        "outputId": "69ff45fb-8cac-4405-e5f0-6f4ff46cc1be"
      },
      "source": [
        "# The correlation between aggregateRatings and languages\n",
        "ted_dataset.plot.scatter(x='languages',y='aggregateRatings',color='black')\n",
        "#define convenience function for trend lines\n",
        "def plotTrendLine(x,y,data=ted_dataset,color='red',logx=False,logy=False):\n",
        "    oldx = np.reshape(data[x].values,(-1,))\n",
        "    oldy = np.reshape(data[y].values,(-1,))\n",
        "    tempx = oldx if not logx else np.log10(oldx)\n",
        "    tempy = oldy if not logy else np.log10(oldy)\n",
        "    \n",
        "    idx = np.isfinite(tempx) & np.isfinite(tempy)\n",
        "    z = np.polyfit(tempx[idx],tempy[idx],1)\n",
        "    tempy = z[0]*tempx+z[1]\n",
        "    plt.plot(oldx,tempy,color=color)\n",
        "    return z\n",
        "plotTrendLine('languages','aggregateRatings');"
      ],
      "execution_count": null,
      "outputs": [
        {
          "output_type": "display_data",
          "data": {
            "image/png": "[encoded data removed]",
            "text/plain": [
              "<Figure size 432x288 with 1 Axes>"
            ]
          },
          "metadata": {
            "tags": []
          }
        }
      ]
    },
    {
      "cell_type": "code",
      "metadata": {
        "id": "t4PCVz9ohPII",
        "colab_type": "code",
        "colab": {
          "base_uri": "https://localhost:8080/",
          "height": 286
        },
        "outputId": "5675dc40-066f-4ef1-c2c5-12eddaf4291b"
      },
      "source": [
        "# The correlation between aggregateRatings and views\n",
        "ted_dataset.plot.scatter(x='views',y='aggregateRatings',color='black')\n",
        "plotTrendLine('views','aggregateRatings',logx=True);\n",
        "plt.xscale('log')"
      ],
      "execution_count": null,
      "outputs": [
        {
          "output_type": "display_data",
          "data": {
            "image/png": "[encoded data removed]",
            "text/plain": [
              "<Figure size 432x288 with 1 Axes>"
            ]
          },
          "metadata": {
            "tags": []
          }
        }
      ]
    },
    {
      "cell_type": "code",
      "metadata": {
        "id": "RRnpBE6aiMrf",
        "colab_type": "code",
        "colab": {
          "base_uri": "https://localhost:8080/",
          "height": 286
        },
        "outputId": "8859ced4-cdb2-4d06-96be-9d602aeec089"
      },
      "source": [
        "# The correlation between aggregateRatings and views\n",
        "ted_dataset.plot.scatter(x='comments',y='aggregateRatings',color='black')\n",
        "plotTrendLine('comments','aggregateRatings',logx=True);\n",
        "plt.xscale('log')"
      ],
      "execution_count": null,
      "outputs": [
        {
          "output_type": "display_data",
          "data": {
            "image/png": "[encoded data removed]",
            "text/plain": [
              "<Figure size 432x288 with 1 Axes>"
            ]
          },
          "metadata": {
            "tags": []
          }
        }
      ]
    },
    {
      "cell_type": "code",
      "metadata": {
        "id": "eXmA8zO2icKJ",
        "colab_type": "code",
        "colab": {
          "base_uri": "https://localhost:8080/",
          "height": 265
        },
        "outputId": "31e39164-2f2a-41bb-cf6b-68235b04b7a2"
      },
      "source": [
        "# histogram of per-view ratings\n",
        "ted_dataset['totalRatings'] = ted_dataset['ratings'].apply(lambda x: sum([x[i]['count'] for i in range(len(x))]))\n",
        "\n",
        "ted_dataset['avgPerRating'] = ted_dataset['aggregateRatings']/ted_dataset['totalRatings']\n",
        "plt.hist(x=ted_dataset['avgPerRating'],bins=50,range=(-1,1),color='black')\n",
        "#convenience function for density curve plotting\n",
        "def plotDensityCurve(x,linspace,covariance_factor=0.25,multiplier=1,data=ted_dataset,color='red'):\n",
        "    tempx = np.reshape(data[x].values,(-1,)) if data is not None else x\n",
        "    density = gaussian_kde(tempx)\n",
        "    xs = np.linspace(linspace[0],linspace[1],linspace[2])\n",
        "    density.covariance_factor = lambda: covariance_factor\n",
        "    density._compute_covariance()\n",
        "    plt.plot(xs,density(xs)*multiplier)\n",
        "plotDensityCurve('avgPerRating',(-1,1,50),multiplier=100)"
      ],
      "execution_count": null,
      "outputs": [
        {
          "output_type": "display_data",
          "data": {
            "image/png": "[encoded data removed]",
            "text/plain": [
              "<Figure size 432x288 with 1 Axes>"
            ]
          },
          "metadata": {
            "tags": [],
            "needs_background": "light"
          }
        }
      ]
    },
    {
      "cell_type": "code",
      "metadata": {
        "id": "wWole-vYjXaV",
        "colab_type": "code",
        "colab": {
          "base_uri": "https://localhost:8080/",
          "height": 303
        },
        "outputId": "580db785-a47f-404d-e234-41b084bdcfc9"
      },
      "source": [
        "ted_dataset.plot.scatter(x='comments',y='avgPerRating',color='black')\n",
        "coeffs = plotTrendLine('comments','avgPerRating',logx=True);\n",
        "plt.xscale('log')\n",
        "print(\"Slope: \"+str(coeffs[0]))\n"
      ],
      "execution_count": null,
      "outputs": [
        {
          "output_type": "stream",
          "text": [
            "Slope: 0.007488309986803437\n"
          ],
          "name": "stdout"
        },
        {
          "output_type": "display_data",
          "data": {
            "image/png": "[encoded data removed]",
            "text/plain": [
              "<Figure size 432x288 with 1 Axes>"
            ]
          },
          "metadata": {
            "tags": []
          }
        }
      ]
    },
    {
      "cell_type": "code",
      "metadata": {
        "id": "81nfYThcj0vA",
        "colab_type": "code",
        "colab": {
          "base_uri": "https://localhost:8080/",
          "height": 303
        },
        "outputId": "b492ee5f-3890-46f9-a75e-d81b8f4be8e8"
      },
      "source": [
        "ted_dataset.plot.scatter(x='views',y='avgPerRating',color='black')\n",
        "coeffs = plotTrendLine('views','avgPerRating',logx=True);\n",
        "plt.xscale('log')\n",
        "print(\"Slope: \"+str(coeffs[0]))"
      ],
      "execution_count": null,
      "outputs": [
        {
          "output_type": "stream",
          "text": [
            "Slope: 0.018296978661601383\n"
          ],
          "name": "stdout"
        },
        {
          "output_type": "display_data",
          "data": {
            "image/png": "[encoded data removed]",
            "text/plain": [
              "<Figure size 432x288 with 1 Axes>"
            ]
          },
          "metadata": {
            "tags": []
          }
        }
      ]
    },
    {
      "cell_type": "code",
      "metadata": {
        "id": "tHRu_0JiLTnK",
        "colab_type": "code",
        "colab": {
          "base_uri": "https://localhost:8080/",
          "height": 333
        },
        "outputId": "d852c90d-1703-4cb9-d438-e97cc52f2099"
      },
      "source": [
        "# find groups of videos which are connected\n",
        "ted_dataset['related_talks'] = ted_dataset['related_talks'].apply(lambda x: eval(str(x)))\n",
        "\n",
        "groups = {}\n",
        "for i in range(len(ted_dataset)):\n",
        "    cur = ted_dataset['title'][i]\n",
        "    related = [ted_dataset['related_talks'][i][j]['title'] for j in range(len(ted_dataset['related_talks'][i]))]\n",
        "    groups[cur] = set(related)\n",
        "    groups[cur].add(cur)\n",
        "    for rel in related:\n",
        "        if rel in groups and rel != cur:\n",
        "            groups[cur].union(groups.pop(rel))\n",
        "                   \n",
        "groups = [g for g in groups.values() if len(g) > 0]\n",
        "lens = [len(t) for t in groups]\n",
        "\n",
        "plt.hist(lens,color='black')\n",
        "print(\"Number of groups: \" + str(len(groups)))\n",
        "print(\"Largest Group Size: \" + str(max(lens)))\n",
        "print(\"Smallest Group Size: \" + str(min(lens)))\n",
        "print(\"Average Group Size: \" + str(np.mean(lens)))"
      ],
      "execution_count": null,
      "outputs": [
        {
          "output_type": "stream",
          "text": [
            "Number of groups: 344\n",
            "Largest Group Size: 7\n",
            "Smallest Group Size: 2\n",
            "Average Group Size: 6.718023255813954\n"
          ],
          "name": "stdout"
        },
        {
          "output_type": "display_data",
          "data": {
            "image/png": "[encoded data removed]",
            "text/plain": [
              "<Figure size 432x288 with 1 Axes>"
            ]
          },
          "metadata": {
            "tags": [],
            "needs_background": "light"
          }
        }
      ]
    },
    {
      "cell_type": "code",
      "metadata": {
        "id": "JKwp8XxEMeZK",
        "colab_type": "code",
        "colab": {
          "base_uri": "https://localhost:8080/",
          "height": 299
        },
        "outputId": "67ae9662-0a45-4128-9a00-03f9532282e3"
      },
      "source": [
        "# Compare the standard deviation for the set to the average standard deviation among groups\n",
        "title_to_id = {}\n",
        "for i in range(len(ted_dataset)):\n",
        "    title_to_id[ted_dataset['title'][i]] = i\n",
        "\n",
        "group_avg = []\n",
        "for g in groups:\n",
        "    group_avg.append([ted_dataset['avgPerRating'][title_to_id[title]] for title in g])\n",
        "\n",
        "group_std = [np.std(nums) for nums in group_avg]\n",
        "plt.hist(group_std,color='black')\n",
        "print(\"Standard deviation for the set: \" + str(np.std(ted_dataset['avgPerRating'])))\n",
        "print(\"Average standard deviation among groups: \" + str(np.mean(group_std)))\n",
        "\n",
        "# Conclude: the relatedness of two videos is not a strong indicator of their quality\n"
      ],
      "execution_count": null,
      "outputs": [
        {
          "output_type": "stream",
          "text": [
            "Standard deviation for the set: 0.24348928007078519\n",
            "Average standard deviation among groups: 0.21433531476920234\n"
          ],
          "name": "stdout"
        },
        {
          "output_type": "display_data",
          "data": {
            "image/png": "[encoded data removed]",
            "text/plain": [
              "<Figure size 432x288 with 1 Axes>"
            ]
          },
          "metadata": {
            "tags": [],
            "needs_background": "light"
          }
        }
      ]
    },
    {
      "cell_type": "markdown",
      "metadata": {
        "id": "xJRjoX0_QgEJ",
        "colab_type": "text"
      },
      "source": [
        "**Apply Machine Learning to predict ratings per view based on various factors**"
      ]
    },
    {
      "cell_type": "code",
      "metadata": {
        "id": "MfKiK1iNQzDC",
        "colab_type": "code",
        "colab": {
          "base_uri": "https://localhost:8080/",
          "height": 202
        },
        "outputId": "96fd38ed-1e1f-4187-8713-ea245f513955"
      },
      "source": [
        "ted_dataset.sample()"
      ],
      "execution_count": null,
      "outputs": [
        {
          "output_type": "execute_result",
          "data": {
            "text/html": [
              "<div>\n",
              "<style scoped>\n",
              "    .dataframe tbody tr th:only-of-type {\n",
              "        vertical-align: middle;\n",
              "    }\n",
              "\n",
              "    .dataframe tbody tr th {\n",
              "        vertical-align: top;\n",
              "    }\n",
              "\n",
              "    .dataframe thead th {\n",
              "        text-align: right;\n",
              "    }\n",
              "</style>\n",
              "<table border=\"1\" class=\"dataframe\">\n",
              "  <thead>\n",
              "    <tr style=\"text-align: right;\">\n",
              "      <th></th>\n",
              "      <th>comments</th>\n",
              "      <th>description</th>\n",
              "      <th>duration</th>\n",
              "      <th>event</th>\n",
              "      <th>film_date</th>\n",
              "      <th>languages</th>\n",
              "      <th>main_speaker</th>\n",
              "      <th>name</th>\n",
              "      <th>num_speaker</th>\n",
              "      <th>published_date</th>\n",
              "      <th>ratings</th>\n",
              "      <th>related_talks</th>\n",
              "      <th>speaker_occupation</th>\n",
              "      <th>tags</th>\n",
              "      <th>title</th>\n",
              "      <th>url</th>\n",
              "      <th>views</th>\n",
              "      <th>aggregateRatings</th>\n",
              "      <th>totalRatings</th>\n",
              "      <th>avgPerRating</th>\n",
              "    </tr>\n",
              "  </thead>\n",
              "  <tbody>\n",
              "    <tr>\n",
              "      <th>1222</th>\n",
              "      <td>269</td>\n",
              "      <td>Fifteen-year-old Tavi Gevinson had a hard time...</td>\n",
              "      <td>450</td>\n",
              "      <td>TEDxTeen</td>\n",
              "      <td>1333152000</td>\n",
              "      <td>30</td>\n",
              "      <td>Tavi Gevinson</td>\n",
              "      <td>Tavi Gevinson: A teen just trying to figure it...</td>\n",
              "      <td>1</td>\n",
              "      <td>1336226312</td>\n",
              "      <td>[{'id': 11, 'name': 'Longwinded', 'count': 44}...</td>\n",
              "      <td>[{'id': 866, 'hero': 'https://pe.tedcdn.com/im...</td>\n",
              "      <td>Blogger and fashion icon</td>\n",
              "      <td>['TEDx', 'entertainment', 'fashion', 'feminism...</td>\n",
              "      <td>A teen just trying to figure it out</td>\n",
              "      <td>https://www.ted.com/talks/tavi_gevinson_a_teen...</td>\n",
              "      <td>1447603</td>\n",
              "      <td>922</td>\n",
              "      <td>2042</td>\n",
              "      <td>0.451518</td>\n",
              "    </tr>\n",
              "  </tbody>\n",
              "</table>\n",
              "</div>"
            ],
            "text/plain": [
              "      comments  ... avgPerRating\n",
              "1222       269  ...     0.451518\n",
              "\n",
              "[1 rows x 20 columns]"
            ]
          },
          "metadata": {
            "tags": []
          },
          "execution_count": 16
        }
      ]
    },
    {
      "cell_type": "code",
      "metadata": {
        "id": "6HwPJFMkSthq",
        "colab_type": "code",
        "colab": {}
      },
      "source": [
        "mldf = ted_dataset[['num_speaker','duration','comments','languages','views', 'film_date', 'published_date']]"
      ],
      "execution_count": null,
      "outputs": []
    },
    {
      "cell_type": "code",
      "metadata": {
        "id": "xYBF0DhWTB29",
        "colab_type": "code",
        "colab": {
          "base_uri": "https://localhost:8080/",
          "height": 357
        },
        "outputId": "7ac49481-86a7-49b8-a45f-216f74878342"
      },
      "source": [
        "mldf['descriptionSentiment'] = ted_dataset['description'].apply(lambda x:TextBlob(re.sub(r'[^\\x00-\\x7f]',r'',x)).sentiment.polarity)\n",
        "print(\"Sentiment: \")\n",
        "print(mldf['descriptionSentiment'].head())\n",
        "print(\"Description: \")\n",
        "print(ted_dataset['description'].head())"
      ],
      "execution_count": null,
      "outputs": [
        {
          "output_type": "stream",
          "text": [
            "Sentiment: \n",
            "0    0.291667\n",
            "1   -0.115909\n",
            "2   -0.081981\n",
            "3    0.000000\n",
            "4    0.000000\n",
            "Name: descriptionSentiment, dtype: float64\n",
            "Description: \n",
            "0    Sir Ken Robinson makes an entertaining and pro...\n",
            "1    With the same humor and humanity he exuded in ...\n",
            "2    New York Times columnist David Pogue takes aim...\n",
            "3    In an emotionally charged talk, MacArthur-winn...\n",
            "4    You've never seen data presented like this. Wi...\n",
            "Name: description, dtype: object\n"
          ],
          "name": "stdout"
        },
        {
          "output_type": "stream",
          "text": [
            "/usr/local/lib/python3.6/dist-packages/ipykernel_launcher.py:1: SettingWithCopyWarning: \n",
            "A value is trying to be set on a copy of a slice from a DataFrame.\n",
            "Try using .loc[row_indexer,col_indexer] = value instead\n",
            "\n",
            "See the caveats in the documentation: https://pandas.pydata.org/pandas-docs/stable/user_guide/indexing.html#returning-a-view-versus-a-copy\n",
            "  \"\"\"Entry point for launching an IPython kernel.\n"
          ],
          "name": "stderr"
        }
      ]
    },
    {
      "cell_type": "code",
      "metadata": {
        "id": "TFyyDQTaT3ti",
        "colab_type": "code",
        "colab": {}
      },
      "source": [
        "ted_dataset['tags'] = ted_dataset['tags'].apply(lambda x:eval(str(x)))\n",
        "all_tags = {}\n",
        "count = 0\n",
        "for talk in ted_dataset['tags']:\n",
        "    for tag in talk:\n",
        "        if not tag in all_tags:\n",
        "            all_tags[tag] = count\n",
        "            count = count+1\n",
        "onehot = np.zeros((0,count))\n",
        "for talk in ted_dataset['tags']:\n",
        "    temp = np.zeros((1,count))\n",
        "    for tag in talk:\n",
        "        temp[0,all_tags[tag]] = 1\n",
        "    onehot = np.concatenate((onehot,temp),0)"
      ],
      "execution_count": null,
      "outputs": []
    },
    {
      "cell_type": "code",
      "metadata": {
        "id": "25sJA2DHUZ_t",
        "colab_type": "code",
        "colab": {}
      },
      "source": [
        "mldf_np = mldf.values\n",
        "all_y = np.reshape(ted_dataset['avgPerRating'].values,(-1,1))\n",
        "all_x = np.concatenate((mldf_np,onehot),1)\n",
        "combined = np.concatenate((all_x,all_y),1)\n",
        "np.random.shuffle(combined)\n",
        "data_size = np.shape(all_y)[0]\n",
        "train_size = (int)(data_size*0.75)\n",
        "feature_size = np.shape(all_x)[1]\n",
        "x_train = combined[0:train_size,0:feature_size]\n",
        "y_train = np.reshape(combined[0:train_size,feature_size],(-1,1))\n",
        "x_val = combined[train_size:data_size,0:feature_size]\n",
        "y_val = np.reshape(combined[train_size:data_size,feature_size],(-1,1))"
      ],
      "execution_count": null,
      "outputs": []
    },
    {
      "cell_type": "code",
      "metadata": {
        "id": "aJEapygYWAHT",
        "colab_type": "code",
        "colab": {
          "base_uri": "https://localhost:8080/",
          "height": 1000
        },
        "outputId": "baa206c0-c5f0-40ce-8847-e163424fad21"
      },
      "source": [
        "import keras.optimizers as op\n",
        "from keras.layers import BatchNormalization\n",
        "\n",
        "model = Sequential()\n",
        "model.add(BatchNormalization(input_shape=(feature_size,)))\n",
        "model.add(Dense(1,kernel_regularizer=l2(0.01)))\n",
        "model.compile(loss='mean_squared_error',optimizer=\"adam\")\n",
        "history = model.fit(x=x_train,y=y_train,batch_size=64,epochs=50,validation_data=(x_val,y_val))"
      ],
      "execution_count": null,
      "outputs": [
        {
          "output_type": "stream",
          "text": [
            "Train on 1912 samples, validate on 638 samples\n",
            "Epoch 1/50\n",
            "1912/1912 [==============================] - 0s 216us/step - loss: 0.7308 - val_loss: 0.3752\n",
            "Epoch 2/50\n",
            "1912/1912 [==============================] - 0s 29us/step - loss: 0.4674 - val_loss: 0.1864\n",
            "Epoch 3/50\n",
            "1912/1912 [==============================] - 0s 27us/step - loss: 0.3389 - val_loss: 0.1279\n",
            "Epoch 4/50\n",
            "1912/1912 [==============================] - 0s 31us/step - loss: 0.2518 - val_loss: 0.1010\n",
            "Epoch 5/50\n",
            "1912/1912 [==============================] - 0s 30us/step - loss: 0.1905 - val_loss: 0.0917\n",
            "Epoch 6/50\n",
            "1912/1912 [==============================] - 0s 27us/step - loss: 0.1540 - val_loss: 0.0890\n",
            "Epoch 7/50\n",
            "1912/1912 [==============================] - 0s 30us/step - loss: 0.1256 - val_loss: 0.0876\n",
            "Epoch 8/50\n",
            "1912/1912 [==============================] - 0s 27us/step - loss: 0.1064 - val_loss: 0.0874\n",
            "Epoch 9/50\n",
            "1912/1912 [==============================] - 0s 28us/step - loss: 0.0935 - val_loss: 0.0881\n",
            "Epoch 10/50\n",
            "1912/1912 [==============================] - 0s 28us/step - loss: 0.0819 - val_loss: 0.0880\n",
            "Epoch 11/50\n",
            "1912/1912 [==============================] - 0s 29us/step - loss: 0.0747 - val_loss: 0.0901\n",
            "Epoch 12/50\n",
            "1912/1912 [==============================] - 0s 28us/step - loss: 0.0690 - val_loss: 0.0922\n",
            "Epoch 13/50\n",
            "1912/1912 [==============================] - 0s 33us/step - loss: 0.0635 - val_loss: 0.0938\n",
            "Epoch 14/50\n",
            "1912/1912 [==============================] - 0s 39us/step - loss: 0.0608 - val_loss: 0.0960\n",
            "Epoch 15/50\n",
            "1912/1912 [==============================] - 0s 30us/step - loss: 0.0583 - val_loss: 0.0990\n",
            "Epoch 16/50\n",
            "1912/1912 [==============================] - 0s 29us/step - loss: 0.0563 - val_loss: 0.1009\n",
            "Epoch 17/50\n",
            "1912/1912 [==============================] - 0s 26us/step - loss: 0.0544 - val_loss: 0.1051\n",
            "Epoch 18/50\n",
            "1912/1912 [==============================] - 0s 27us/step - loss: 0.0527 - val_loss: 0.1086\n",
            "Epoch 19/50\n",
            "1912/1912 [==============================] - 0s 27us/step - loss: 0.0516 - val_loss: 0.1108\n",
            "Epoch 20/50\n",
            "1912/1912 [==============================] - 0s 27us/step - loss: 0.0516 - val_loss: 0.1139\n",
            "Epoch 21/50\n",
            "1912/1912 [==============================] - 0s 39us/step - loss: 0.0508 - val_loss: 0.1158\n",
            "Epoch 22/50\n",
            "1912/1912 [==============================] - 0s 27us/step - loss: 0.0502 - val_loss: 0.1164\n",
            "Epoch 23/50\n",
            "1912/1912 [==============================] - 0s 27us/step - loss: 0.0499 - val_loss: 0.1173\n",
            "Epoch 24/50\n",
            "1912/1912 [==============================] - 0s 30us/step - loss: 0.0495 - val_loss: 0.1202\n",
            "Epoch 25/50\n",
            "1912/1912 [==============================] - 0s 27us/step - loss: 0.0494 - val_loss: 0.1189\n",
            "Epoch 26/50\n",
            "1912/1912 [==============================] - 0s 28us/step - loss: 0.0489 - val_loss: 0.1204\n",
            "Epoch 27/50\n",
            "1912/1912 [==============================] - 0s 32us/step - loss: 0.0489 - val_loss: 0.1185\n",
            "Epoch 28/50\n",
            "1912/1912 [==============================] - 0s 27us/step - loss: 0.0487 - val_loss: 0.1195\n",
            "Epoch 29/50\n",
            "1912/1912 [==============================] - 0s 28us/step - loss: 0.0485 - val_loss: 0.1180\n",
            "Epoch 30/50\n",
            "1912/1912 [==============================] - 0s 28us/step - loss: 0.0484 - val_loss: 0.1173\n",
            "Epoch 31/50\n",
            "1912/1912 [==============================] - 0s 28us/step - loss: 0.0485 - val_loss: 0.1177\n",
            "Epoch 32/50\n",
            "1912/1912 [==============================] - 0s 28us/step - loss: 0.0492 - val_loss: 0.1188\n",
            "Epoch 33/50\n",
            "1912/1912 [==============================] - 0s 28us/step - loss: 0.0483 - val_loss: 0.1168\n",
            "Epoch 34/50\n",
            "1912/1912 [==============================] - 0s 27us/step - loss: 0.0487 - val_loss: 0.1125\n",
            "Epoch 35/50\n",
            "1912/1912 [==============================] - 0s 26us/step - loss: 0.0488 - val_loss: 0.1163\n",
            "Epoch 36/50\n",
            "1912/1912 [==============================] - 0s 27us/step - loss: 0.0479 - val_loss: 0.1154\n",
            "Epoch 37/50\n",
            "1912/1912 [==============================] - 0s 26us/step - loss: 0.0482 - val_loss: 0.1190\n",
            "Epoch 38/50\n",
            "1912/1912 [==============================] - 0s 27us/step - loss: 0.0478 - val_loss: 0.1136\n",
            "Epoch 39/50\n",
            "1912/1912 [==============================] - 0s 27us/step - loss: 0.0479 - val_loss: 0.1135\n",
            "Epoch 40/50\n",
            "1912/1912 [==============================] - 0s 32us/step - loss: 0.0479 - val_loss: 0.1166\n",
            "Epoch 41/50\n",
            "1912/1912 [==============================] - 0s 29us/step - loss: 0.0486 - val_loss: 0.1125\n",
            "Epoch 42/50\n",
            "1912/1912 [==============================] - 0s 26us/step - loss: 0.0484 - val_loss: 0.1159\n",
            "Epoch 43/50\n",
            "1912/1912 [==============================] - 0s 29us/step - loss: 0.0479 - val_loss: 0.1147\n",
            "Epoch 44/50\n",
            "1912/1912 [==============================] - 0s 29us/step - loss: 0.0478 - val_loss: 0.1146\n",
            "Epoch 45/50\n",
            "1912/1912 [==============================] - 0s 31us/step - loss: 0.0480 - val_loss: 0.1135\n",
            "Epoch 46/50\n",
            "1912/1912 [==============================] - 0s 31us/step - loss: 0.0485 - val_loss: 0.1134\n",
            "Epoch 47/50\n",
            "1912/1912 [==============================] - 0s 30us/step - loss: 0.0477 - val_loss: 0.1126\n",
            "Epoch 48/50\n",
            "1912/1912 [==============================] - 0s 32us/step - loss: 0.0481 - val_loss: 0.1133\n",
            "Epoch 49/50\n",
            "1912/1912 [==============================] - 0s 31us/step - loss: 0.0482 - val_loss: 0.1135\n",
            "Epoch 50/50\n",
            "1912/1912 [==============================] - 0s 30us/step - loss: 0.0480 - val_loss: 0.1138\n"
          ],
          "name": "stdout"
        }
      ]
    },
    {
      "cell_type": "code",
      "metadata": {
        "id": "AnSMegvIWMM6",
        "colab_type": "code",
        "colab": {
          "base_uri": "https://localhost:8080/",
          "height": 282
        },
        "outputId": "995ee940-c189-4395-fff9-37f286180c7a"
      },
      "source": [
        "loss = history.history['loss']\n",
        "val_loss = history.history['val_loss']\n",
        "epochs = np.arange(1,len(loss)+1)\n",
        "plt.plot(epochs,loss,color='red')\n",
        "plt.plot(epochs,val_loss,color='blue')"
      ],
      "execution_count": null,
      "outputs": [
        {
          "output_type": "execute_result",
          "data": {
            "text/plain": [
              "[<matplotlib.lines.Line2D at 0x7efe0ef79fd0>]"
            ]
          },
          "metadata": {
            "tags": []
          },
          "execution_count": 28
        },
        {
          "output_type": "display_data",
          "data": {
            "image/png": "[encoded data removed]",
            "text/plain": [
              "<Figure size 432x288 with 1 Axes>"
            ]
          },
          "metadata": {
            "tags": [],
            "needs_background": "light"
          }
        }
      ]
    },
    {
      "cell_type": "code",
      "metadata": {
        "id": "S4vvFX_7WXLt",
        "colab_type": "code",
        "colab": {}
      },
      "source": [
        "all_weights_temp = model.layers[1].get_weights()[0]\n",
        "all_weights = []\n",
        "for weight in all_weights_temp:\n",
        "    all_weights.append(weight[0])\n",
        "existing_weights = all_weights[:6]\n",
        "tag_weights = all_weights[6:]"
      ],
      "execution_count": null,
      "outputs": []
    },
    {
      "cell_type": "code",
      "metadata": {
        "id": "48C5qVFRWZs6",
        "colab_type": "code",
        "colab": {
          "base_uri": "https://localhost:8080/",
          "height": 267
        },
        "outputId": "e2e8881d-cd84-4fd0-e13c-ae02872a6904"
      },
      "source": [
        "fig,ax = plt.subplots()\n",
        "index = np.arange(0,6)\n",
        "ax.bar(index,existing_weights)\n",
        "ax.set_xticklabels(('','num_speaker','duration','comments','languages','views','sentiment'))\n",
        "plt.show()"
      ],
      "execution_count": null,
      "outputs": [
        {
          "output_type": "display_data",
          "data": {
            "image/png": "[encoded data removed]",
            "text/plain": [
              "<Figure size 432x288 with 1 Axes>"
            ]
          },
          "metadata": {
            "tags": [],
            "needs_background": "light"
          }
        }
      ]
    },
    {
      "cell_type": "code",
      "metadata": {
        "id": "RyKCN_WgWkia",
        "colab_type": "code",
        "colab": {
          "base_uri": "https://localhost:8080/",
          "height": 265
        },
        "outputId": "8c97f292-8740-420d-dfa7-cad910635bd6"
      },
      "source": [
        "plt.hist(x=tag_weights,bins=30,range=(-0.07,0.07),color='black')\n",
        "plotDensityCurve(tag_weights,(-0.07,0.07,30),0.25,5,data=None)"
      ],
      "execution_count": null,
      "outputs": [
        {
          "output_type": "display_data",
          "data": {
            "image/png": "[encoded data removed]",
            "text/plain": [
              "<Figure size 432x288 with 1 Axes>"
            ]
          },
          "metadata": {
            "tags": [],
            "needs_background": "light"
          }
        }
      ]
    },
    {
      "cell_type": "code",
      "metadata": {
        "id": "nrWC_iWMWnDb",
        "colab_type": "code",
        "colab": {
          "base_uri": "https://localhost:8080/",
          "height": 187
        },
        "outputId": "0b5545ba-c688-4172-e7e4-a5b9c839e0cf"
      },
      "source": [
        "inverted_tags = dict([v,k] for k,v in all_tags.items())\n",
        "tag_columns = ('features',)\n",
        "tag_df = pd.DataFrame({'features': tag_weights})\n",
        "best_tags = tag_df.sort_values('features',ascending=False).head(10).index.tolist()\n",
        "for tag in best_tags:\n",
        "    print(inverted_tags[tag]) if tag in inverted_tags else \"\""
      ],
      "execution_count": null,
      "outputs": [
        {
          "output_type": "stream",
          "text": [
            "meme\n",
            "blockchain\n",
            "women in business\n",
            "china\n",
            "ecology\n",
            "piano\n",
            "poverty\n",
            "food\n",
            "jazz\n",
            "TEDMED\n"
          ],
          "name": "stdout"
        }
      ]
    },
    {
      "cell_type": "code",
      "metadata": {
        "id": "nIgdW7eeWt-Q",
        "colab_type": "code",
        "colab": {
          "base_uri": "https://localhost:8080/",
          "height": 187
        },
        "outputId": "640d4471-4d98-4831-9f5e-566652161767"
      },
      "source": [
        "worst_tags = tag_df.sort_values('features',ascending=True).head(10).index.tolist()\n",
        "for tag in worst_tags:\n",
        "    print(inverted_tags[tag]) if tag in inverted_tags else \"\""
      ],
      "execution_count": null,
      "outputs": [
        {
          "output_type": "stream",
          "text": [
            "identity\n",
            "farming\n",
            "failure\n",
            "india\n",
            "exoskeleton\n",
            "driverless cars\n",
            "cyborg\n",
            "monkeys\n",
            "discovery\n",
            "heart health\n"
          ],
          "name": "stdout"
        }
      ]
    },
    {
      "cell_type": "code",
      "metadata": {
        "id": "1PuJ0PpiWxjc",
        "colab_type": "code",
        "colab": {
          "base_uri": "https://localhost:8080/",
          "height": 669
        },
        "outputId": "400e5af1-af6a-4bce-f54a-325e64eb6c74"
      },
      "source": [
        "s = ted_dataset.apply(lambda x: pd.Series(x['tags']),axis=1).stack().reset_index(level=1, drop=True)\n",
        "s.name = 'theme'\n",
        "theme_df = ted_dataset.drop('tags', axis=1).join(s)\n",
        "theme_df.head()\n",
        "pop_themes = pd.DataFrame(theme_df['theme'].value_counts()).reset_index()\n",
        "pop_themes.columns = ['theme', 'talks']\n",
        "top_themes = pop_themes.head(20)\n",
        "top_themes"
      ],
      "execution_count": null,
      "outputs": [
        {
          "output_type": "execute_result",
          "data": {
            "text/html": [
              "<div>\n",
              "<style scoped>\n",
              "    .dataframe tbody tr th:only-of-type {\n",
              "        vertical-align: middle;\n",
              "    }\n",
              "\n",
              "    .dataframe tbody tr th {\n",
              "        vertical-align: top;\n",
              "    }\n",
              "\n",
              "    .dataframe thead th {\n",
              "        text-align: right;\n",
              "    }\n",
              "</style>\n",
              "<table border=\"1\" class=\"dataframe\">\n",
              "  <thead>\n",
              "    <tr style=\"text-align: right;\">\n",
              "      <th></th>\n",
              "      <th>theme</th>\n",
              "      <th>talks</th>\n",
              "    </tr>\n",
              "  </thead>\n",
              "  <tbody>\n",
              "    <tr>\n",
              "      <th>0</th>\n",
              "      <td>technology</td>\n",
              "      <td>727</td>\n",
              "    </tr>\n",
              "    <tr>\n",
              "      <th>1</th>\n",
              "      <td>science</td>\n",
              "      <td>567</td>\n",
              "    </tr>\n",
              "    <tr>\n",
              "      <th>2</th>\n",
              "      <td>global issues</td>\n",
              "      <td>501</td>\n",
              "    </tr>\n",
              "    <tr>\n",
              "      <th>3</th>\n",
              "      <td>culture</td>\n",
              "      <td>486</td>\n",
              "    </tr>\n",
              "    <tr>\n",
              "      <th>4</th>\n",
              "      <td>TEDx</td>\n",
              "      <td>450</td>\n",
              "    </tr>\n",
              "    <tr>\n",
              "      <th>5</th>\n",
              "      <td>design</td>\n",
              "      <td>418</td>\n",
              "    </tr>\n",
              "    <tr>\n",
              "      <th>6</th>\n",
              "      <td>business</td>\n",
              "      <td>348</td>\n",
              "    </tr>\n",
              "    <tr>\n",
              "      <th>7</th>\n",
              "      <td>entertainment</td>\n",
              "      <td>299</td>\n",
              "    </tr>\n",
              "    <tr>\n",
              "      <th>8</th>\n",
              "      <td>health</td>\n",
              "      <td>236</td>\n",
              "    </tr>\n",
              "    <tr>\n",
              "      <th>9</th>\n",
              "      <td>innovation</td>\n",
              "      <td>229</td>\n",
              "    </tr>\n",
              "    <tr>\n",
              "      <th>10</th>\n",
              "      <td>society</td>\n",
              "      <td>224</td>\n",
              "    </tr>\n",
              "    <tr>\n",
              "      <th>11</th>\n",
              "      <td>art</td>\n",
              "      <td>221</td>\n",
              "    </tr>\n",
              "    <tr>\n",
              "      <th>12</th>\n",
              "      <td>social change</td>\n",
              "      <td>218</td>\n",
              "    </tr>\n",
              "    <tr>\n",
              "      <th>13</th>\n",
              "      <td>future</td>\n",
              "      <td>195</td>\n",
              "    </tr>\n",
              "    <tr>\n",
              "      <th>14</th>\n",
              "      <td>communication</td>\n",
              "      <td>191</td>\n",
              "    </tr>\n",
              "    <tr>\n",
              "      <th>15</th>\n",
              "      <td>creativity</td>\n",
              "      <td>189</td>\n",
              "    </tr>\n",
              "    <tr>\n",
              "      <th>16</th>\n",
              "      <td>biology</td>\n",
              "      <td>189</td>\n",
              "    </tr>\n",
              "    <tr>\n",
              "      <th>17</th>\n",
              "      <td>humanity</td>\n",
              "      <td>182</td>\n",
              "    </tr>\n",
              "    <tr>\n",
              "      <th>18</th>\n",
              "      <td>collaboration</td>\n",
              "      <td>174</td>\n",
              "    </tr>\n",
              "    <tr>\n",
              "      <th>19</th>\n",
              "      <td>environment</td>\n",
              "      <td>165</td>\n",
              "    </tr>\n",
              "  </tbody>\n",
              "</table>\n",
              "</div>"
            ],
            "text/plain": [
              "            theme  talks\n",
              "0      technology    727\n",
              "1         science    567\n",
              "2   global issues    501\n",
              "3         culture    486\n",
              "4            TEDx    450\n",
              "5          design    418\n",
              "6        business    348\n",
              "7   entertainment    299\n",
              "8          health    236\n",
              "9      innovation    229\n",
              "10        society    224\n",
              "11            art    221\n",
              "12  social change    218\n",
              "13         future    195\n",
              "14  communication    191\n",
              "15     creativity    189\n",
              "16        biology    189\n",
              "17       humanity    182\n",
              "18  collaboration    174\n",
              "19    environment    165"
            ]
          },
          "metadata": {
            "tags": []
          },
          "execution_count": 38
        }
      ]
    },
    {
      "cell_type": "code",
      "metadata": {
        "id": "4qaTeqAWXHXO",
        "colab_type": "code",
        "colab": {}
      },
      "source": [
        "top_theme_list = []\n",
        "for theme in top_themes['theme'].tolist():\n",
        "    top_theme_list.append((theme,tag_df['features'].tolist()[all_tags[theme]]))\n",
        "sorted_list = sorted(top_theme_list,key=lambda x: -x[1])\n",
        "theme_list = []\n",
        "weight_list = []\n",
        "for pair in sorted_list:\n",
        "    theme_list.append(pair[0])\n",
        "    weight_list.append(pair[1])"
      ],
      "execution_count": null,
      "outputs": []
    },
    {
      "cell_type": "code",
      "metadata": {
        "id": "GdqpN97hXOkg",
        "colab_type": "code",
        "colab": {
          "base_uri": "https://localhost:8080/",
          "height": 335
        },
        "outputId": "8dcfdfd9-2b15-47ac-fc00-f5d5c31a0fc5"
      },
      "source": [
        "fig,ax = plt.subplots()\n",
        "index = np.arange(0,20)\n",
        "ax.bar(index,weight_list)\n",
        "ax.set_xticklabels(theme_list)\n",
        "plt.xticks(index)\n",
        "for tick in ax.get_xticklabels():\n",
        "    tick.set_rotation(90)\n",
        "plt.show()"
      ],
      "execution_count": null,
      "outputs": [
        {
          "output_type": "display_data",
          "data": {
            "image/png": "[encoded data removed]",
            "text/plain": [
              "<Figure size 432x288 with 1 Axes>"
            ]
          },
          "metadata": {
            "tags": [],
            "needs_background": "light"
          }
        }
      ]
    },
    {
      "cell_type": "markdown",
      "metadata": {
        "id": "OPhCdApj1GP0",
        "colab_type": "text"
      },
      "source": [
        "**Dashboard Presentation**"
      ]
    },
    {
      "cell_type": "markdown",
      "metadata": {
        "id": "O1oijH-a1K0e",
        "colab_type": "text"
      },
      "source": [
        "https://public.tableau.com/profile/hoa2000kxpt#!/vizhome/VnHa_Assignment04_Dashboard/Dashboard1?publish=yes"
      ]
    },
    {
      "cell_type": "markdown",
      "metadata": {
        "id": "NV7Wo3oX1ZLr",
        "colab_type": "text"
      },
      "source": [
        "**Reference**\n",
        "\n",
        "*   https://towardsdatascience.com/ted-talks-analysis-eda-for-beginners-df346bc431a6\n",
        "*   https://www.kaggle.com/lpang36/analysis-of-ted-talk-ratings\n",
        "\n"
      ]
    }
  ]
}